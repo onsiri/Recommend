{
 "metadata": {
  "name": "",
  "signature": "sha256:0b5ae8878d35fd5963338e97a2431458077634ee6487f45c718f7a1f9c9499cb"
 },
 "nbformat": 3,
 "nbformat_minor": 0,
 "worksheets": [
  {
   "cells": [
    {
     "cell_type": "code",
     "collapsed": false,
     "input": [
      "import pandas as pd\n",
      "import numpy as np"
     ],
     "language": "python",
     "metadata": {},
     "outputs": [],
     "prompt_number": 6
    },
    {
     "cell_type": "code",
     "collapsed": false,
     "input": [
      "#download the class movie reviews from here:\n",
      "#https://docs.google.com/spreadsheets/d/17rCJzmWxqvAu9rkpkgt4ToccIlY4A1Ffuu1W9X3B8Ag/\n",
      "#then read that in as a pandas dataframe"
     ],
     "language": "python",
     "metadata": {},
     "outputs": [],
     "prompt_number": 7
    },
    {
     "cell_type": "code",
     "collapsed": false,
     "input": [
      "M = pd.read_csv('MovieReviews.csv', index_col='Name')"
     ],
     "language": "python",
     "metadata": {},
     "outputs": [],
     "prompt_number": 8
    },
    {
     "cell_type": "code",
     "collapsed": false,
     "input": [
      "M.head()"
     ],
     "language": "python",
     "metadata": {},
     "outputs": [
      {
       "html": [
        "<div style=\"max-height:1000px;max-width:1500px;overflow:auto;\">\n",
        "<table border=\"1\" class=\"dataframe\">\n",
        "  <thead>\n",
        "    <tr style=\"text-align: right;\">\n",
        "      <th></th>\n",
        "      <th>American Sniper</th>\n",
        "      <th>The Hunger Games: Mockingjay - Part 1</th>\n",
        "      <th>Guardians of the Galaxy</th>\n",
        "      <th>The Lego Movie</th>\n",
        "      <th>The Hobbit</th>\n",
        "      <th>Transformers</th>\n",
        "      <th>Malificent</th>\n",
        "      <th>Big Hero 6</th>\n",
        "      <th>Godzilla</th>\n",
        "      <th>Interstellar</th>\n",
        "      <th>How to Train your Dragon 2</th>\n",
        "      <th>Gone Girl</th>\n",
        "      <th>Divergent</th>\n",
        "      <th>The Fault in Our Stars</th>\n",
        "      <th>Unbroken</th>\n",
        "      <th>300: Rise of an Empire</th>\n",
        "    </tr>\n",
        "    <tr>\n",
        "      <th>Name</th>\n",
        "      <th></th>\n",
        "      <th></th>\n",
        "      <th></th>\n",
        "      <th></th>\n",
        "      <th></th>\n",
        "      <th></th>\n",
        "      <th></th>\n",
        "      <th></th>\n",
        "      <th></th>\n",
        "      <th></th>\n",
        "      <th></th>\n",
        "      <th></th>\n",
        "      <th></th>\n",
        "      <th></th>\n",
        "      <th></th>\n",
        "      <th></th>\n",
        "    </tr>\n",
        "  </thead>\n",
        "  <tbody>\n",
        "    <tr>\n",
        "      <th>Mike</th>\n",
        "      <td>NaN</td>\n",
        "      <td>NaN</td>\n",
        "      <td>  5</td>\n",
        "      <td>NaN</td>\n",
        "      <td>  4</td>\n",
        "      <td>NaN</td>\n",
        "      <td>  3</td>\n",
        "      <td>NaN</td>\n",
        "      <td>NaN</td>\n",
        "      <td>NaN</td>\n",
        "      <td>NaN</td>\n",
        "      <td>NaN</td>\n",
        "      <td>  3</td>\n",
        "      <td>NaN</td>\n",
        "      <td>NaN</td>\n",
        "      <td>  2</td>\n",
        "    </tr>\n",
        "    <tr>\n",
        "      <th>HJ SONG</th>\n",
        "      <td>NaN</td>\n",
        "      <td>  2</td>\n",
        "      <td>  3</td>\n",
        "      <td>  4</td>\n",
        "      <td>  4</td>\n",
        "      <td>  5</td>\n",
        "      <td>NaN</td>\n",
        "      <td>  4</td>\n",
        "      <td>  4</td>\n",
        "      <td>  5</td>\n",
        "      <td>  5</td>\n",
        "      <td>NaN</td>\n",
        "      <td>NaN</td>\n",
        "      <td>NaN</td>\n",
        "      <td>  5</td>\n",
        "      <td>  5</td>\n",
        "    </tr>\n",
        "    <tr>\n",
        "      <th>Ryan Hansen</th>\n",
        "      <td>NaN</td>\n",
        "      <td>  3</td>\n",
        "      <td>  4</td>\n",
        "      <td>  3</td>\n",
        "      <td>  5</td>\n",
        "      <td>  2</td>\n",
        "      <td>  3</td>\n",
        "      <td>  3</td>\n",
        "      <td>  3</td>\n",
        "      <td>NaN</td>\n",
        "      <td>  5</td>\n",
        "      <td>NaN</td>\n",
        "      <td>  3</td>\n",
        "      <td>NaN</td>\n",
        "      <td>NaN</td>\n",
        "      <td>NaN</td>\n",
        "    </tr>\n",
        "    <tr>\n",
        "      <th>Olumuyiwa Durojaiye</th>\n",
        "      <td>NaN</td>\n",
        "      <td>NaN</td>\n",
        "      <td>NaN</td>\n",
        "      <td>NaN</td>\n",
        "      <td>NaN</td>\n",
        "      <td>  5</td>\n",
        "      <td>NaN</td>\n",
        "      <td>  5</td>\n",
        "      <td>  2</td>\n",
        "      <td>NaN</td>\n",
        "      <td>  3</td>\n",
        "      <td>NaN</td>\n",
        "      <td>NaN</td>\n",
        "      <td>NaN</td>\n",
        "      <td>NaN</td>\n",
        "      <td>  2</td>\n",
        "    </tr>\n",
        "    <tr>\n",
        "      <th>Charlie</th>\n",
        "      <td>NaN</td>\n",
        "      <td>  2</td>\n",
        "      <td>  3</td>\n",
        "      <td>NaN</td>\n",
        "      <td>  3</td>\n",
        "      <td>  2</td>\n",
        "      <td>  3</td>\n",
        "      <td>NaN</td>\n",
        "      <td>  4</td>\n",
        "      <td>  5</td>\n",
        "      <td>  2</td>\n",
        "      <td>NaN</td>\n",
        "      <td>  2</td>\n",
        "      <td>  3</td>\n",
        "      <td>NaN</td>\n",
        "      <td>  2</td>\n",
        "    </tr>\n",
        "  </tbody>\n",
        "</table>\n",
        "</div>"
       ],
       "metadata": {},
       "output_type": "pyout",
       "prompt_number": 9,
       "text": [
        "                     American Sniper  The Hunger Games: Mockingjay - Part 1  \\\n",
        "Name                                                                          \n",
        "Mike                             NaN                                    NaN   \n",
        "HJ SONG                          NaN                                      2   \n",
        "Ryan Hansen                      NaN                                      3   \n",
        "Olumuyiwa Durojaiye              NaN                                    NaN   \n",
        "Charlie                          NaN                                      2   \n",
        "\n",
        "                     Guardians of the Galaxy  The Lego Movie  The Hobbit  \\\n",
        "Name                                                                       \n",
        "Mike                                       5             NaN           4   \n",
        "HJ SONG                                    3               4           4   \n",
        "Ryan Hansen                                4               3           5   \n",
        "Olumuyiwa Durojaiye                      NaN             NaN         NaN   \n",
        "Charlie                                    3             NaN           3   \n",
        "\n",
        "                     Transformers  Malificent  Big Hero 6  Godzilla  \\\n",
        "Name                                                                  \n",
        "Mike                          NaN           3         NaN       NaN   \n",
        "HJ SONG                         5         NaN           4         4   \n",
        "Ryan Hansen                     2           3           3         3   \n",
        "Olumuyiwa Durojaiye             5         NaN           5         2   \n",
        "Charlie                         2           3         NaN         4   \n",
        "\n",
        "                     Interstellar  How to Train your Dragon 2  Gone Girl  \\\n",
        "Name                                                                       \n",
        "Mike                          NaN                         NaN        NaN   \n",
        "HJ SONG                         5                           5        NaN   \n",
        "Ryan Hansen                   NaN                           5        NaN   \n",
        "Olumuyiwa Durojaiye           NaN                           3        NaN   \n",
        "Charlie                         5                           2        NaN   \n",
        "\n",
        "                     Divergent  The Fault in Our Stars  Unbroken  \\\n",
        "Name                                                               \n",
        "Mike                         3                     NaN       NaN   \n",
        "HJ SONG                    NaN                     NaN         5   \n",
        "Ryan Hansen                  3                     NaN       NaN   \n",
        "Olumuyiwa Durojaiye        NaN                     NaN       NaN   \n",
        "Charlie                      2                       3       NaN   \n",
        "\n",
        "                     300: Rise of an Empire  \n",
        "Name                                         \n",
        "Mike                                      2  \n",
        "HJ SONG                                   5  \n",
        "Ryan Hansen                             NaN  \n",
        "Olumuyiwa Durojaiye                       2  \n",
        "Charlie                                   2  "
       ]
      }
     ],
     "prompt_number": 9
    },
    {
     "cell_type": "code",
     "collapsed": false,
     "input": [
      "def pearson(s1, s2):\n",
      "    \"\"\"Take two pd.Series objects and return a pearson correlation.\"\"\"\n",
      "    s1_c = s1 - s1.mean()\n",
      "    s2_c = s2 - s2.mean()\n",
      "    return np.sum(s1_c * s2_c) / np.sqrt(np.sum(s1_c ** 2) * np.sum(s2_c ** 2))"
     ],
     "language": "python",
     "metadata": {},
     "outputs": [],
     "prompt_number": 10
    },
    {
     "cell_type": "code",
     "collapsed": false,
     "input": [
      "def get_recs(movie_name, M, num):\n",
      "\n",
      "    import numpy as np\n",
      "    reviews = []\n",
      "    for title in M.columns:\n",
      "        if title == movie_name:\n",
      "            continue\n",
      "        cor = pearson(M[movie_name], M[title])\n",
      "        if np.isnan(cor):\n",
      "            continue\n",
      "        else:\n",
      "            reviews.append((title, cor))\n",
      "    \n",
      "    reviews.sort(key=lambda tup: tup[1], reverse=True)\n",
      "    return reviews[:num]\n",
      "\n",
      "    "
     ],
     "language": "python",
     "metadata": {},
     "outputs": [],
     "prompt_number": 11
    },
    {
     "cell_type": "markdown",
     "metadata": {},
     "source": [
      "###Question 1:  What movie is most Similar to 'The fault in our stars' (60 pts)\n"
     ]
    },
    {
     "cell_type": "code",
     "collapsed": false,
     "input": [
      "recs = get_recs('The Fault in Our Stars', M, 10)"
     ],
     "language": "python",
     "metadata": {},
     "outputs": [],
     "prompt_number": 12
    },
    {
     "cell_type": "code",
     "collapsed": false,
     "input": [
      "recs[:5]"
     ],
     "language": "python",
     "metadata": {},
     "outputs": [
      {
       "metadata": {},
       "output_type": "pyout",
       "prompt_number": 13,
       "text": [
        "[('Transformers', 0.45574896698689149),\n",
        " ('The Hunger Games: Mockingjay - Part 1', 0.35345113364519332),\n",
        " ('How to Train your Dragon 2', 0.31922063429064507),\n",
        " ('Godzilla', 0.28158585271367448),\n",
        " ('Malificent', 0.25203347226782336)]"
       ]
      }
     ],
     "prompt_number": 13
    },
    {
     "cell_type": "markdown",
     "metadata": {},
     "source": [
      "###Answer 1: Transformer is the most similar to 'The fault in our stars' from our class reviews"
     ]
    },
    {
     "cell_type": "markdown",
     "metadata": {},
     "source": [
      "###Question 2:  Which movie(s) would you most like to see, based on your classmates experience? (40 pts)"
     ]
    },
    {
     "cell_type": "code",
     "collapsed": false,
     "input": [
      "#the movies I've seen\n",
      "my_ratings = M.ix['Onsiri Tapsarn'].dropna()\n",
      "#the movie I've rated the highest\n",
      "my_ratings.sort(ascending=False)"
     ],
     "language": "python",
     "metadata": {},
     "outputs": [],
     "prompt_number": 14
    },
    {
     "cell_type": "code",
     "collapsed": false,
     "input": [
      "my_ratings"
     ],
     "language": "python",
     "metadata": {},
     "outputs": [
      {
       "metadata": {},
       "output_type": "pyout",
       "prompt_number": 15,
       "text": [
        "Gone Girl          3\n",
        "American Sniper    3\n",
        "Name: Onsiri Tapsarn, dtype: float64"
       ]
      }
     ],
     "prompt_number": 15
    },
    {
     "cell_type": "markdown",
     "metadata": {},
     "source": [
      "####So I watched 2 moviews out of Mike's list and I rated both movies the same. So I will use the recommend to check that what movie are the most similar to 'Gone girl' and American sniper'"
     ]
    },
    {
     "cell_type": "code",
     "collapsed": false,
     "input": [
      "####Gone girl\n",
      "recs = get_recs('Gone Girl', M, 10)\n",
      "recs[:5]"
     ],
     "language": "python",
     "metadata": {},
     "outputs": [
      {
       "metadata": {},
       "output_type": "pyout",
       "prompt_number": 16,
       "text": [
        "[('American Sniper', 0.28755406187583576),\n",
        " ('Malificent', 0.19629691272934724),\n",
        " ('Godzilla', 0.12894266332234663),\n",
        " ('Divergent', 0.1143739277494535),\n",
        " ('The Fault in Our Stars', 0.083747586093265186)]"
       ]
      }
     ],
     "prompt_number": 16
    },
    {
     "cell_type": "markdown",
     "metadata": {},
     "source": [
      "####So 'American sniper' is the mosimilar to 'Gone Girl'"
     ]
    },
    {
     "cell_type": "code",
     "collapsed": false,
     "input": [
      "####Gone girl\n",
      "recs = get_recs('American Sniper', M, 10)\n",
      "recs[:5]"
     ],
     "language": "python",
     "metadata": {},
     "outputs": [
      {
       "metadata": {},
       "output_type": "pyout",
       "prompt_number": 17,
       "text": [
        "[('300: Rise of an Empire', 0.28787262506063988),\n",
        " ('Gone Girl', 0.28755406187583576),\n",
        " ('Divergent', 0.17677669529663687),\n",
        " ('Interstellar', 0.083333333333333329),\n",
        " ('The Hobbit', 0.042494452475255538)]"
       ]
      }
     ],
     "prompt_number": 17
    },
    {
     "cell_type": "markdown",
     "metadata": {},
     "source": [
      "####And '300: Rise of an Empire' is the most similar to 'Gone Girl'"
     ]
    },
    {
     "cell_type": "code",
     "collapsed": false,
     "input": [],
     "language": "python",
     "metadata": {},
     "outputs": [],
     "prompt_number": 21
    }
   ],
   "metadata": {}
  }
 ]
}